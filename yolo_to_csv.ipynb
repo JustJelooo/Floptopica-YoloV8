{
 "cells": [
  {
   "cell_type": "markdown",
   "metadata": {},
   "source": [
    "yolo detection that saves images and text files"
   ]
  },
  {
   "cell_type": "code",
   "execution_count": null,
   "metadata": {},
   "outputs": [],
   "source": [
    "import os\n",
    "from ultralytics import YOLO\n",
    "\n",
    "# Load your trained YOLOv8 model\n",
    "model = YOLO(\"D://ModelTraining/runs/detect/train47/weights/best.pt\") #CHANGE TO LOCATION WHERE I BEST.PT IS\n",
    "\n",
    "# Define the root directory containing all the folders with images\n",
    "root_dir = \"D://ModelTraining/testjelo2\"\n",
    "\n",
    "# Iterate through each folder in the root directory\n",
    "for folder_name in os.listdir(root_dir):\n",
    "    folder_path = os.path.join(root_dir, folder_name)\n",
    "    # Check if the path is a directory\n",
    "    if os.path.isdir(folder_path):\n",
    "        # Perform predictions on images in the folder and save the output as text files\n",
    "        results = model.predict(source=folder_path, save=True, save_txt=True)\n",
    "        print(f\"Predictions saved for images in {folder_name}\")"
   ]
  },
  {
   "cell_type": "markdown",
   "metadata": {},
   "source": [
    "separate all images into indiv folders"
   ]
  },
  {
   "cell_type": "code",
   "execution_count": null,
   "metadata": {},
   "outputs": [],
   "source": [
    "import os\n",
    "import shutil\n",
    "import re\n",
    "\n",
    "# Define the directory containing the images\n",
    "source_dir = \"D://ModelTraining/runs/detect/predict11\" #CHANGE TO WHERE YOLO SAYS IT SAVED YOUR IMAGES\n",
    "\n",
    "# Create a dictionary to hold the base names as keys and the corresponding file paths as values\n",
    "files_dict = {}\n",
    "\n",
    "# Iterate through each file in the source directory\n",
    "for filename in os.listdir(source_dir):\n",
    "    # Check if the file is an image (you can adjust the condition based on your file types)\n",
    "    if filename.endswith(\".jpg\"):\n",
    "        # Extract the base name without the numbers at the end\n",
    "        base_name = re.sub(r'\\d+$', '', filename.rsplit('.', 1)[0])\n",
    "        \n",
    "        # If the base name is not already in the dictionary, add it\n",
    "        if base_name not in files_dict:\n",
    "            files_dict[base_name] = []\n",
    "        \n",
    "        # Add the full path of the file to the list of files for this base name\n",
    "        files_dict[base_name].append(os.path.join(source_dir, filename))\n",
    "\n",
    "# Iterate through the dictionary\n",
    "for base_name, files in files_dict.items():\n",
    "    # Create a new directory for each base name if it doesn't already exist\n",
    "    new_dir = os.path.join(source_dir, base_name)\n",
    "    if not os.path.exists(new_dir):\n",
    "        os.makedirs(new_dir)\n",
    "    \n",
    "    # Move each file to the corresponding new directory\n",
    "    for file in files:\n",
    "        shutil.move(file, new_dir)\n",
    "        print(f\"Moved {file} to {new_dir}\")\n",
    "\n",
    "print(\"All files have been separated into folders.\")"
   ]
  },
  {
   "cell_type": "markdown",
   "metadata": {},
   "source": [
    "CREATION OF CSV"
   ]
  },
  {
   "cell_type": "code",
   "execution_count": null,
   "metadata": {},
   "outputs": [],
   "source": [
    "import os\n",
    "import pandas as pd\n",
    "\n",
    "# Specify the directory where your text files are stored\n",
    "text_files_directory = 'D:/ModelTraining/runs/detect/predict11/labels' #CHANGE TO LABELS FOLDER PATH\n",
    "\n",
    "# Define a dictionary to map IDs to labels\n",
    "id_to_label = {\n",
    "    '0': 'Camouflage',\n",
    "    '1': 'Animal Print',\n",
    "    '2': 'Blazer',\n",
    "    '3': 'Chiffon',\n",
    "    '4': 'Tie Dye',\n",
    "    '5': 'Pencil Skirt',\n",
    "    '6': 'Floral',\n",
    "    '7': 'Jersey',\n",
    "    '8': 'Crop top',\n",
    "    '9': 'Leather',\n",
    "    '10': 'Trench Coat',\n",
    "    '11': 'Jeans',\n",
    "    '12': 'T-Shirt',\n",
    "    '13': 'White Shirt',\n",
    "    '14': 'Checkered',\n",
    "    '15': 'Polka Dots',\n",
    "    '16': 'Mesh',\n",
    "    '17': 'Stripes',\n",
    "    '18': 'Lace',\n",
    "    '19': 'Denim',\n",
    "}\n",
    "\n",
    "# Initialize an empty DataFrame to store the base names and their labels\n",
    "df = pd.DataFrame(columns=['Base Name'] + list(id_to_label.values()))\n",
    "\n",
    "# Iterate over each text file in the directory\n",
    "for filename in os.listdir(text_files_directory):\n",
    "    if filename.endswith('.txt'):\n",
    "        # Remove the '.txt' extension to get the base name\n",
    "        base_name = os.path.splitext(filename)[0]\n",
    "        \n",
    "        # Open the text file and read its content\n",
    "        with open(os.path.join(text_files_directory, filename), 'r') as file:\n",
    "            lines = file.readlines()\n",
    "            label_counts = {}\n",
    "            # Extract the ID from each line and count occurrences\n",
    "            for line in lines:\n",
    "                id = line.split()[0]\n",
    "                label = id_to_label.get(id, 'Unknown')\n",
    "                label_counts[label] = label_counts.get(label, 0) + 1\n",
    "            \n",
    "            # Create a new row for this base name and its labels\n",
    "            row = {'Base Name': base_name}\n",
    "            for label in id_to_label.values():\n",
    "                row[label] = label_counts.get(label, 0)\n",
    "            df = df.append(row, ignore_index=True)\n",
    "\n",
    "# Write the DataFrame to a new CSV file\n",
    "df.to_csv('labels_csv_file2.csv', index=False)\n",
    "\n",
    "print(\"CSV file with labels has been created.\")"
   ]
  },
  {
   "cell_type": "code",
   "execution_count": null,
   "metadata": {},
   "outputs": [],
   "source": []
  }
 ],
 "metadata": {
  "language_info": {
   "name": "python"
  }
 },
 "nbformat": 4,
 "nbformat_minor": 2
}
